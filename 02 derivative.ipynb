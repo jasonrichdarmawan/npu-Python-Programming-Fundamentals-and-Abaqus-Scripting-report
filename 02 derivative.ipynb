{
 "cells": [
  {
   "cell_type": "markdown",
   "metadata": {},
   "source": [
    "# Explanation of Results\n",
    "\n",
    "Given the array x = [1, 2, 4, 7, 11], numpy.gradient(x) will return the derivative at each point. Here's how it's calculated:\n",
    "\n",
    "1. At the first point $(𝑥_0)$: Forward difference approximation\n",
    "\n",
    "   $\\frac{f(x_1) - f(x_0)}{h} = \\frac{2 - 1}{1} = 1$\n",
    "\n",
    "2. At the interior points $(x_1, x_2, x_3)$: Central difference approximation\n",
    "\n",
    "   At $x_1$:\n",
    "   \n",
    "   $f'(x_1) = \\frac{f(x_2) - f(x_0)}{2h} = \\frac{4 - 1}{2} = 1.5$\n",
    "\n",
    "   At $x_2$:\n",
    "\n",
    "   $f'(x_2) = \\frac{f(x_3) - f(x_1)}{2h} = \\frac{7 - 2}{2} = 2.5$\n",
    "\n",
    "   At $x_3$:\n",
    "\n",
    "   $f'(x_3) = \\frac{f(x_4) - f(x_2)}{2h} = \\frac{11 - 4}{2} = 3.5$\n",
    "\n",
    "3. At the last point $(x_4)$: Backward difference approximation\n",
    "\n",
    "   $\\frac{f(x_4) - f(x_3)}{h} = \\frac{11 - 7}{1} = 4$\n"
   ]
  },
  {
   "cell_type": "code",
   "execution_count": 1,
   "metadata": {},
   "outputs": [
    {
     "name": "stdout",
     "output_type": "stream",
     "text": [
      "Gradient: [1.  1.5 2.5 3.5 4. ]\n"
     ]
    }
   ],
   "source": [
    "import numpy as np\n",
    "\n",
    "# Define an array of function values\n",
    "x = np.array([1, 2, 4, 7, 11])\n",
    "\n",
    "# Compute the gradient (numerical derivative)\n",
    "gradient = np.gradient(x)\n",
    "\n",
    "print(\"Gradient:\", gradient)\n"
   ]
  }
 ],
 "metadata": {
  "kernelspec": {
   "display_name": "Python 3",
   "language": "python",
   "name": "python3"
  },
  "language_info": {
   "codemirror_mode": {
    "name": "ipython",
    "version": 3
   },
   "file_extension": ".py",
   "mimetype": "text/x-python",
   "name": "python",
   "nbconvert_exporter": "python",
   "pygments_lexer": "ipython3",
   "version": "3.10.14"
  }
 },
 "nbformat": 4,
 "nbformat_minor": 2
}
