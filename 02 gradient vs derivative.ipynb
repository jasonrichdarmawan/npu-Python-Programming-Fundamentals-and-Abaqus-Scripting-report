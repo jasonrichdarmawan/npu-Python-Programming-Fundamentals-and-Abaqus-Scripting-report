{
 "cells": [
  {
   "cell_type": "code",
   "execution_count": 1,
   "metadata": {},
   "outputs": [],
   "source": [
    "# Import the required Python packages\n",
    "import numpy as np"
   ]
  },
  {
   "cell_type": "markdown",
   "metadata": {},
   "source": [
    "# Explanation of Results"
   ]
  },
  {
   "cell_type": "markdown",
   "metadata": {},
   "source": [
    "## Linear function\n",
    "\n",
    "### Suppose $x$ are not evenly spaced\n",
    "\n",
    "Given `f(x) = 2x + 5`. Thus `f'(x) = 2`\n",
    "\n",
    "Given the array `x = [1, 2, 4, 7, 11]`\n",
    "\n",
    "Thus, `y = [7, 9, 13, 19, 27]` and `y' = [2, 2, 2, 2, 2]`\n",
    "\n",
    "`numpy.gradient(y)` will return the derivative at each point. Here's how it's calculated:\n",
    "\n",
    "1. At the first point $(𝑥_0)$: Forward difference approximation\n",
    "\n",
    "   $\\frac{f(x_1) - f(x_0)}{h} = \\frac{9 - 7}{1} = 2$\n",
    "\n",
    "2. At the interior points $(x_1, x_2, x_3)$: Central difference approximation\n",
    "\n",
    "   At $x_1$:\n",
    "   \n",
    "   $f'(x_1) = \\frac{f(x_2) - f(x_0)}{2h} = \\frac{13 - 7}{2} = 3$\n",
    "\n",
    "   At $x_2$:\n",
    "\n",
    "   $f'(x_2) = \\frac{f(x_3) - f(x_1)}{2h} = \\frac{19 - 9}{2} = 5$\n",
    "\n",
    "   At $x_3$:\n",
    "\n",
    "   $f'(x_3) = \\frac{f(x_4) - f(x_2)}{2h} = \\frac{27 - 13}{2} = 7$\n",
    "\n",
    "3. At the last point $(x_4)$: Backward difference approximation\n",
    "\n",
    "   $\\frac{f(x_4) - f(x_3)}{h} = \\frac{27 - 19}{1} = 8$"
   ]
  },
  {
   "cell_type": "code",
   "execution_count": 10,
   "metadata": {},
   "outputs": [
    {
     "name": "stdout",
     "output_type": "stream",
     "text": [
      "y:                      [ 7  9 13 19 27]\n",
      "Analytical Derivative:  [2 2 2 2 2]\n",
      "Numerical Gradient:     [2. 3. 5. 7. 8.]\n"
     ]
    }
   ],
   "source": [
    "# Define an array of function values\n",
    "x = np.array([1, 2, 4, 7, 11])\n",
    "y = 2 * x + 5\n",
    "\n",
    "# Compute the gradient (numerical derivative)\n",
    "gradient = np.gradient(y)\n",
    "\n",
    "# Compute the analytical derivative\n",
    "y_prime = np.full(5, 2)\n",
    "\n",
    "print(f\"y:                      {y}\")\n",
    "print(f\"Analytical Derivative:  {y_prime}\")\n",
    "print(f\"Numerical Gradient:     {gradient}\")"
   ]
  },
  {
   "cell_type": "markdown",
   "metadata": {},
   "source": [
    "### Suppose $x$ are evenly spaced"
   ]
  },
  {
   "cell_type": "code",
   "execution_count": 2,
   "metadata": {},
   "outputs": [
    {
     "name": "stdout",
     "output_type": "stream",
     "text": [
      "y:                      [ 7  9 11 13 15]\n",
      "Analytical Derivative:  [2 2 2 2 2]\n",
      "Numerical Gradient:     [2. 2. 2. 2. 2.]\n"
     ]
    }
   ],
   "source": [
    "# Define an array of function values\n",
    "x = np.array([1, 2, 3, 4, 5])\n",
    "y = 2 * x + 5\n",
    "\n",
    "# Compute the gradient (numerical derivative)\n",
    "gradient = np.gradient(y)\n",
    "\n",
    "# Compute the analytical derivative\n",
    "y_prime = np.full(5, 2)\n",
    "\n",
    "print(f\"y:                      {y}\")\n",
    "print(f\"Analytical Derivative:  {y_prime}\")\n",
    "print(f\"Numerical Gradient:     {gradient}\")"
   ]
  },
  {
   "cell_type": "markdown",
   "metadata": {},
   "source": [
    "## Non-linear function\n",
    "\n",
    "Given $f(x) = 2x^2$. Thus, $f'(x) = 4x$\n",
    "\n",
    "Given the array `x = [1, 2, 4, 7, 11]`\n",
    "\n",
    "Thus, `y = [2, 8, 32, 98, 242]` and `y' = [4, 8, 16, 28, 44]`\n",
    "\n",
    "`numpy.gradient(y)` will return the derivative at each point. Here's how it's calculated:\n",
    "\n",
    "1. At the first point $(𝑥_0)$: Forward difference approximation\n",
    "\n",
    "   $\\frac{f(x_1) - f(x_0)}{h} = \\frac{8 - 2}{1} = 6$\n",
    "\n",
    "2. At the interior points $(x_1, x_2, x_3)$: Central difference approximation\n",
    "\n",
    "   At $x_1$:\n",
    "   \n",
    "   $f'(x_1) = \\frac{f(x_2) - f(x_0)}{2h} = \\frac{32 - 2}{2} = 15$\n",
    "\n",
    "   At $x_2$:\n",
    "\n",
    "   $f'(x_2) = \\frac{f(x_3) - f(x_1)}{2h} = \\frac{98 - 8}{2} = 45$\n",
    "\n",
    "   At $x_3$:\n",
    "\n",
    "   $f'(x_3) = \\frac{f(x_4) - f(x_2)}{2h} = \\frac{242 - 32}{2} = 105$\n",
    "\n",
    "3. At the last point $(x_4)$: Backward difference approximation\n",
    "\n",
    "   $\\frac{f(x_4) - f(x_3)}{h} = \\frac{242 - 98}{1} = 144$\n"
   ]
  },
  {
   "cell_type": "code",
   "execution_count": 21,
   "metadata": {},
   "outputs": [
    {
     "name": "stdout",
     "output_type": "stream",
     "text": [
      "y:                      [  2   8  32  98 242]\n",
      "Analytical Derivative:  [ 4  8 16 28 44]\n",
      "Numerical Gradient:     [  6.  15.  45. 105. 144.]\n"
     ]
    }
   ],
   "source": [
    "# Define an array of function values\n",
    "x = np.array([1, 2, 4, 7, 11])\n",
    "y = 2 * x ** 2\n",
    "\n",
    "# Compute the gradient (numerical derivative)\n",
    "gradient = np.gradient(y)\n",
    "\n",
    "# Compute the analytical derivative\n",
    "y_prime = 4 * x\n",
    "\n",
    "print(f\"y:                      {y}\")\n",
    "print(f\"Analytical Derivative:  {y_prime}\")\n",
    "print(f\"Numerical Gradient:     {gradient}\")"
   ]
  }
 ],
 "metadata": {
  "kernelspec": {
   "display_name": "Python 3",
   "language": "python",
   "name": "python3"
  },
  "language_info": {
   "codemirror_mode": {
    "name": "ipython",
    "version": 3
   },
   "file_extension": ".py",
   "mimetype": "text/x-python",
   "name": "python",
   "nbconvert_exporter": "python",
   "pygments_lexer": "ipython3",
   "version": "3.10.14"
  }
 },
 "nbformat": 4,
 "nbformat_minor": 2
}
